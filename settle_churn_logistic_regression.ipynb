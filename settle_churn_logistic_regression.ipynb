{
 "cells": [
  {
   "cell_type": "markdown",
   "id": "46370827-4789-4c54-927c-97139d168362",
   "metadata": {},
   "source": [
    "# Settle Take Home #\n",
    "Author: Evan Ball\n",
    "Date:  2023-04-14\n",
    "\n",
    "## Goal ##\n",
    "* Determine key patterns associated with businesses that are likely to churn (vs not)\n",
    "* Based on this, identify non-churned businesses that may be at risk of churn\n",
    "\n",
    "## Approach ##\n",
    "Using the sample data provided, we will train a logistic regression model and attempt to assign a probability of churn to each merchant. If this model has good predictive power, then we can use it to both evaluate which features are most predictive of future churn, and to assign a probability of churn to currently non-churned merchants, which will help us to identify at-risk merchants.\n",
    "\n",
    "## Feature Definitions ##\n",
    "The dependent variable will be a binary column called ‘HAS_CHURNED’, which will be 1 if the merchant churned, and 0 if not. The table below summarizes the independent variables used to train the model.\n",
    "\n",
    "| Name  | Definition  |\n",
    "|---|---|\n",
    "| HAS_CREDIT_LIMIT  | Binary flag. 1 if the merchant currently has a credit limit, 0 if not.  |\n",
    "| HAS_PAYMENT  | Binary flag. 1 if the merchant ever made a payment through Settle, 0 if not.   |\n",
    "| LAST_30_PAYMENT_DELTA  | Percent change in payment count from the 30 days prior to churn, compared to the preceding 30 day period. For merchants without a churn date, the most recent date in the dataset is used (2023-04-12)   |\n",
    "| DAYS_SINCE_LAST_PAYMENT | The number of days elapsed since the merchant’s most recent payment. For churned merchants, this is calculated from the date of churn. For non-churned merchants, 2023-04-12 is used.   |\n",
    "| HAS_EVENT | Binary flag. 1 if the merchant has ever logged an event in fct_segment_events. 0 if not.  |\n",
    "| DAYS_SINCE_LAST_EVENT  | The number of days elapsed since the merchant’s most recent event in fct_segment_events. For churned merchants, this is calculated from the date of churn. For non-churned merchants, 2023-04-12 is used.  |\n",
    "| LAST_30_EVENT_DELTA  | Percent change in event count from the 30 days prior to churn, compared to the preceding 30 day period. For merchants without a churn date, the most recent date in the dataset is used (2023-04-12)  |"
   ]
  },
  {
   "cell_type": "markdown",
   "id": "b5a0af31-791a-49d9-bd80-ca719125114e",
   "metadata": {},
   "source": [
    "# Assemble the tools #"
   ]
  },
  {
   "cell_type": "code",
   "execution_count": 85,
   "id": "fad45e9d-81fa-4305-a8ae-4ef1a1a6eda5",
   "metadata": {
    "tags": []
   },
   "outputs": [],
   "source": [
    "import pandas as pd\n",
    "from sklearn.model_selection import train_test_split\n",
    "from sklearn.linear_model import LogisticRegression\n",
    "from sklearn import metrics\n",
    "from sklearn.metrics import classification_report\n",
    "from sklearn.inspection import permutation_importance\n",
    "import numpy as np\n",
    "import matplotlib.pyplot as plt\n",
    "import seaborn as sns"
   ]
  },
  {
   "cell_type": "markdown",
   "id": "0a6834d9-5521-4d47-8061-5207a60fb716",
   "metadata": {},
   "source": [
    "# Model Training #"
   ]
  },
  {
   "cell_type": "code",
   "execution_count": 94,
   "id": "495fcbaa-0b10-4383-9403-ed6dc609c24a",
   "metadata": {
    "tags": []
   },
   "outputs": [
    {
     "data": {
      "text/html": [
       "<div>\n",
       "<style scoped>\n",
       "    .dataframe tbody tr th:only-of-type {\n",
       "        vertical-align: middle;\n",
       "    }\n",
       "\n",
       "    .dataframe tbody tr th {\n",
       "        vertical-align: top;\n",
       "    }\n",
       "\n",
       "    .dataframe thead th {\n",
       "        text-align: right;\n",
       "    }\n",
       "</style>\n",
       "<table border=\"1\" class=\"dataframe\">\n",
       "  <thead>\n",
       "    <tr style=\"text-align: right;\">\n",
       "      <th></th>\n",
       "      <th>BUSINESS_ID</th>\n",
       "      <th>HAS_CHURNED</th>\n",
       "      <th>HAS_CREDIT_LIMIT</th>\n",
       "      <th>HAS_PAYMENT</th>\n",
       "      <th>LAST_30_PAYMENT_COUNT</th>\n",
       "      <th>LAST_30_PAYMENT_DELTA</th>\n",
       "      <th>DAYS_SINCE_LAST_PAYMENT</th>\n",
       "      <th>HAS_EVENT</th>\n",
       "      <th>DAYS_SINCE_LAST_EVENT</th>\n",
       "      <th>LAST_30_EVENT_COUNT</th>\n",
       "      <th>LAST_30_EVENT_DELTA</th>\n",
       "    </tr>\n",
       "  </thead>\n",
       "  <tbody>\n",
       "    <tr>\n",
       "      <th>0</th>\n",
       "      <td>1325</td>\n",
       "      <td>0</td>\n",
       "      <td>0</td>\n",
       "      <td>1</td>\n",
       "      <td>0</td>\n",
       "      <td>-100.000000</td>\n",
       "      <td>40</td>\n",
       "      <td>1</td>\n",
       "      <td>1</td>\n",
       "      <td>545</td>\n",
       "      <td>-44.045175</td>\n",
       "    </tr>\n",
       "    <tr>\n",
       "      <th>1</th>\n",
       "      <td>557</td>\n",
       "      <td>0</td>\n",
       "      <td>1</td>\n",
       "      <td>1</td>\n",
       "      <td>29</td>\n",
       "      <td>70.588235</td>\n",
       "      <td>2</td>\n",
       "      <td>1</td>\n",
       "      <td>1</td>\n",
       "      <td>1921</td>\n",
       "      <td>40.939105</td>\n",
       "    </tr>\n",
       "    <tr>\n",
       "      <th>2</th>\n",
       "      <td>1781</td>\n",
       "      <td>0</td>\n",
       "      <td>1</td>\n",
       "      <td>1</td>\n",
       "      <td>164</td>\n",
       "      <td>10.067114</td>\n",
       "      <td>1</td>\n",
       "      <td>1</td>\n",
       "      <td>1</td>\n",
       "      <td>3989</td>\n",
       "      <td>94.585366</td>\n",
       "    </tr>\n",
       "    <tr>\n",
       "      <th>3</th>\n",
       "      <td>9492</td>\n",
       "      <td>0</td>\n",
       "      <td>1</td>\n",
       "      <td>1</td>\n",
       "      <td>60</td>\n",
       "      <td>57.894737</td>\n",
       "      <td>1</td>\n",
       "      <td>1</td>\n",
       "      <td>1</td>\n",
       "      <td>1558</td>\n",
       "      <td>67.526882</td>\n",
       "    </tr>\n",
       "    <tr>\n",
       "      <th>4</th>\n",
       "      <td>1754</td>\n",
       "      <td>0</td>\n",
       "      <td>1</td>\n",
       "      <td>1</td>\n",
       "      <td>19</td>\n",
       "      <td>-9.523810</td>\n",
       "      <td>6</td>\n",
       "      <td>1</td>\n",
       "      <td>2</td>\n",
       "      <td>1662</td>\n",
       "      <td>71.163749</td>\n",
       "    </tr>\n",
       "  </tbody>\n",
       "</table>\n",
       "</div>"
      ],
      "text/plain": [
       "   BUSINESS_ID  HAS_CHURNED  HAS_CREDIT_LIMIT  HAS_PAYMENT   \n",
       "0         1325            0                 0            1  \\\n",
       "1          557            0                 1            1   \n",
       "2         1781            0                 1            1   \n",
       "3         9492            0                 1            1   \n",
       "4         1754            0                 1            1   \n",
       "\n",
       "   LAST_30_PAYMENT_COUNT  LAST_30_PAYMENT_DELTA  DAYS_SINCE_LAST_PAYMENT   \n",
       "0                      0            -100.000000                       40  \\\n",
       "1                     29              70.588235                        2   \n",
       "2                    164              10.067114                        1   \n",
       "3                     60              57.894737                        1   \n",
       "4                     19              -9.523810                        6   \n",
       "\n",
       "   HAS_EVENT  DAYS_SINCE_LAST_EVENT  LAST_30_EVENT_COUNT  LAST_30_EVENT_DELTA  \n",
       "0          1                      1                  545           -44.045175  \n",
       "1          1                      1                 1921            40.939105  \n",
       "2          1                      1                 3989            94.585366  \n",
       "3          1                      1                 1558            67.526882  \n",
       "4          1                      2                 1662            71.163749  "
      ]
     },
     "execution_count": 94,
     "metadata": {},
     "output_type": "execute_result"
    }
   ],
   "source": [
    "data = pd.read_csv('data/settle_churn_training_data.csv')\n",
    "data.head()"
   ]
  },
  {
   "cell_type": "code",
   "execution_count": 87,
   "id": "73a772e7-347c-4134-a34d-69900f59c154",
   "metadata": {
    "tags": []
   },
   "outputs": [],
   "source": [
    "# Define features/target variable, and split out test and training data\n",
    "\n",
    "feature_cols = ['HAS_CREDIT_LIMIT', 'HAS_PAYMENT', 'LAST_30_PAYMENT_DELTA', 'DAYS_SINCE_LAST_PAYMENT', 'HAS_EVENT', 'DAYS_SINCE_LAST_EVENT', 'LAST_30_EVENT_DELTA']\n",
    "\n",
    "X = data[feature_cols]\n",
    "y = data['HAS_CHURNED']\n",
    "\n",
    "X_train, X_test, y_train, y_test = train_test_split(X, y, test_size=0.20, random_state=16)"
   ]
  },
  {
   "cell_type": "code",
   "execution_count": 88,
   "id": "fd04b5d3-88ee-461e-beb1-bafcddd5605b",
   "metadata": {
    "tags": []
   },
   "outputs": [],
   "source": [
    "# fit the model and make predictions\n",
    "\n",
    "logreg = LogisticRegression(random_state=16)\n",
    "\n",
    "logreg.fit(X_train, y_train)\n",
    "\n",
    "y_pred = logreg.predict(X_test)"
   ]
  },
  {
   "cell_type": "markdown",
   "id": "d1e10ded-31d3-4ff2-9ec0-9914624cfa64",
   "metadata": {},
   "source": [
    "# Model Evaluation #"
   ]
  },
  {
   "cell_type": "code",
   "execution_count": 89,
   "id": "e6428489-d040-4579-bb7c-50c144922d40",
   "metadata": {
    "tags": []
   },
   "outputs": [
    {
     "data": {
      "text/plain": [
       "array([[22,  2],\n",
       "       [ 1, 18]], dtype=int64)"
      ]
     },
     "execution_count": 89,
     "metadata": {},
     "output_type": "execute_result"
    }
   ],
   "source": [
    "# Build the confusion matrix, i.e, how many test cases did the model correctly predict (the values along the diagonal). The bottom left value is the count of cases where the model predicted a churn, but no churn occurred, and vice versa for the top right value\n",
    "\n",
    "cnf_matrix = metrics.confusion_matrix(y_test, y_pred)\n",
    "cnf_matrix"
   ]
  },
  {
   "cell_type": "code",
   "execution_count": 90,
   "id": "7e14f494-7455-4192-a09b-042321dd6adf",
   "metadata": {
    "tags": []
   },
   "outputs": [
    {
     "name": "stdout",
     "output_type": "stream",
     "text": [
      "                 precision    recall  f1-score   support\n",
      "\n",
      "    has churned       0.96      0.92      0.94        24\n",
      "has not churned       0.90      0.95      0.92        19\n",
      "\n",
      "       accuracy                           0.93        43\n",
      "      macro avg       0.93      0.93      0.93        43\n",
      "   weighted avg       0.93      0.93      0.93        43\n",
      "\n"
     ]
    }
   ],
   "source": [
    "target_names = ['has churned', 'has not churned']\n",
    "print(classification_report(y_test, y_pred, target_names=target_names))"
   ]
  },
  {
   "cell_type": "code",
   "execution_count": 91,
   "id": "281aba99-5e85-4aa9-bf48-aba9a4a7bf8e",
   "metadata": {
    "tags": []
   },
   "outputs": [
    {
     "data": {
      "image/png": "[encoded data removed]",
      "text/plain": [
       "<Figure size 640x480 with 1 Axes>"
      ]
     },
     "metadata": {},
     "output_type": "display_data"
    }
   ],
   "source": [
    "# Plot the ROC curve, and calculate AUC. A perfect predictor will have an AUC of 1, while a worthless predictor will have an AUC of 0.5.\n",
    "\n",
    "y_pred_proba = logreg.predict_proba(X_test)[::,1]\n",
    "fpr, tpr, _ = metrics.roc_curve(y_test,  y_pred_proba)\n",
    "auc = metrics.roc_auc_score(y_test, y_pred_proba)\n",
    "plt.plot(fpr,tpr,label=\"data 1, auc=\"+str(auc))\n",
    "plt.legend(loc=4)\n",
    "plt.show()"
   ]
  },
  {
   "cell_type": "markdown",
   "id": "33174f19-8133-430a-a143-231134d8f9ef",
   "metadata": {},
   "source": [
    "Our model has an AUC of .93, indicating strong predictive power. In addition, we have precision and recall numbers all over 90%, which indicates that when the model does predict churn, it is very accurate, AND that it is able to identify most churned merchants. Looking good!"
   ]
  },
  {
   "cell_type": "markdown",
   "id": "138bc8cf-ebcf-4fe1-a071-c26c250d3557",
   "metadata": {},
   "source": [
    "# Find the most impactful variables #\n"
   ]
  },
  {
   "cell_type": "code",
   "execution_count": 92,
   "id": "b90782bf-7044-4f0f-bbc3-0064c795f385",
   "metadata": {
    "tags": []
   },
   "outputs": [
    {
     "data": {
      "text/html": [
       "<div>\n",
       "<style scoped>\n",
       "    .dataframe tbody tr th:only-of-type {\n",
       "        vertical-align: middle;\n",
       "    }\n",
       "\n",
       "    .dataframe tbody tr th {\n",
       "        vertical-align: top;\n",
       "    }\n",
       "\n",
       "    .dataframe thead th {\n",
       "        text-align: right;\n",
       "    }\n",
       "</style>\n",
       "<table border=\"1\" class=\"dataframe\">\n",
       "  <thead>\n",
       "    <tr style=\"text-align: right;\">\n",
       "      <th></th>\n",
       "      <th>feature</th>\n",
       "      <th>importance</th>\n",
       "      <th>coef_value</th>\n",
       "    </tr>\n",
       "  </thead>\n",
       "  <tbody>\n",
       "    <tr>\n",
       "      <th>3</th>\n",
       "      <td>DAYS_SINCE_LAST_PAYMENT</td>\n",
       "      <td>0.209302</td>\n",
       "      <td>0.069445</td>\n",
       "    </tr>\n",
       "    <tr>\n",
       "      <th>5</th>\n",
       "      <td>DAYS_SINCE_LAST_EVENT</td>\n",
       "      <td>0.088372</td>\n",
       "      <td>0.072856</td>\n",
       "    </tr>\n",
       "    <tr>\n",
       "      <th>0</th>\n",
       "      <td>HAS_CREDIT_LIMIT</td>\n",
       "      <td>0.051163</td>\n",
       "      <td>-1.197839</td>\n",
       "    </tr>\n",
       "    <tr>\n",
       "      <th>2</th>\n",
       "      <td>LAST_30_PAYMENT_DELTA</td>\n",
       "      <td>0.009302</td>\n",
       "      <td>-0.012906</td>\n",
       "    </tr>\n",
       "    <tr>\n",
       "      <th>1</th>\n",
       "      <td>HAS_PAYMENT</td>\n",
       "      <td>0.000000</td>\n",
       "      <td>0.002011</td>\n",
       "    </tr>\n",
       "    <tr>\n",
       "      <th>4</th>\n",
       "      <td>HAS_EVENT</td>\n",
       "      <td>0.000000</td>\n",
       "      <td>-0.001968</td>\n",
       "    </tr>\n",
       "    <tr>\n",
       "      <th>6</th>\n",
       "      <td>LAST_30_EVENT_DELTA</td>\n",
       "      <td>0.000000</td>\n",
       "      <td>0.002366</td>\n",
       "    </tr>\n",
       "  </tbody>\n",
       "</table>\n",
       "</div>"
      ],
      "text/plain": [
       "                   feature  importance  coef_value\n",
       "3  DAYS_SINCE_LAST_PAYMENT    0.209302    0.069445\n",
       "5    DAYS_SINCE_LAST_EVENT    0.088372    0.072856\n",
       "0         HAS_CREDIT_LIMIT    0.051163   -1.197839\n",
       "2    LAST_30_PAYMENT_DELTA    0.009302   -0.012906\n",
       "1              HAS_PAYMENT    0.000000    0.002011\n",
       "4                HAS_EVENT    0.000000   -0.001968\n",
       "6      LAST_30_EVENT_DELTA    0.000000    0.002366"
      ]
     },
     "execution_count": 92,
     "metadata": {},
     "output_type": "execute_result"
    }
   ],
   "source": [
    "# find the most predictive features and sort in descending order\n",
    "\n",
    "variable_importance = permutation_importance(logreg, X_test, y_test)\n",
    "imp = variable_importance['importances_mean']\n",
    "coefs = logreg.coef_[0]\n",
    "\n",
    "coef_importance = pd.DataFrame({'feature': feature_cols, 'importance': imp, 'coef_value': coefs})\n",
    "coef_importance.sort_values(by=['importance'], ascending=False)"
   ]
  },
  {
   "cell_type": "markdown",
   "id": "0791845a-d757-49be-90a0-2f9e0154d36c",
   "metadata": {},
   "source": [
    "# Identify at-risk Merchants #"
   ]
  },
  {
   "cell_type": "code",
   "execution_count": 93,
   "id": "fe0caf52-1d89-4362-b048-50587baab7e2",
   "metadata": {
    "tags": []
   },
   "outputs": [
    {
     "data": {
      "text/html": [
       "<div>\n",
       "<style scoped>\n",
       "    .dataframe tbody tr th:only-of-type {\n",
       "        vertical-align: middle;\n",
       "    }\n",
       "\n",
       "    .dataframe tbody tr th {\n",
       "        vertical-align: top;\n",
       "    }\n",
       "\n",
       "    .dataframe thead th {\n",
       "        text-align: right;\n",
       "    }\n",
       "</style>\n",
       "<table border=\"1\" class=\"dataframe\">\n",
       "  <thead>\n",
       "    <tr style=\"text-align: right;\">\n",
       "      <th></th>\n",
       "      <th>HAS_CREDIT_LIMIT</th>\n",
       "      <th>HAS_PAYMENT</th>\n",
       "      <th>LAST_30_PAYMENT_DELTA</th>\n",
       "      <th>DAYS_SINCE_LAST_PAYMENT</th>\n",
       "      <th>HAS_EVENT</th>\n",
       "      <th>DAYS_SINCE_LAST_EVENT</th>\n",
       "      <th>LAST_30_EVENT_DELTA</th>\n",
       "      <th>churn_probability</th>\n",
       "      <th>business_id</th>\n",
       "    </tr>\n",
       "  </thead>\n",
       "  <tbody>\n",
       "    <tr>\n",
       "      <th>82</th>\n",
       "      <td>1</td>\n",
       "      <td>1</td>\n",
       "      <td>-100.000000</td>\n",
       "      <td>51</td>\n",
       "      <td>1</td>\n",
       "      <td>51</td>\n",
       "      <td>-100.000000</td>\n",
       "      <td>9.892703e-01</td>\n",
       "      <td>7952</td>\n",
       "    </tr>\n",
       "    <tr>\n",
       "      <th>122</th>\n",
       "      <td>1</td>\n",
       "      <td>1</td>\n",
       "      <td>-100.000000</td>\n",
       "      <td>83</td>\n",
       "      <td>1</td>\n",
       "      <td>9</td>\n",
       "      <td>-81.300813</td>\n",
       "      <td>9.765807e-01</td>\n",
       "      <td>7827</td>\n",
       "    </tr>\n",
       "    <tr>\n",
       "      <th>182</th>\n",
       "      <td>1</td>\n",
       "      <td>1</td>\n",
       "      <td>-100.000000</td>\n",
       "      <td>72</td>\n",
       "      <td>1</td>\n",
       "      <td>5</td>\n",
       "      <td>-52.360515</td>\n",
       "      <td>9.395529e-01</td>\n",
       "      <td>10121</td>\n",
       "    </tr>\n",
       "    <tr>\n",
       "      <th>208</th>\n",
       "      <td>1</td>\n",
       "      <td>1</td>\n",
       "      <td>-100.000000</td>\n",
       "      <td>54</td>\n",
       "      <td>1</td>\n",
       "      <td>13</td>\n",
       "      <td>-73.755656</td>\n",
       "      <td>8.834849e-01</td>\n",
       "      <td>12367</td>\n",
       "    </tr>\n",
       "    <tr>\n",
       "      <th>0</th>\n",
       "      <td>0</td>\n",
       "      <td>1</td>\n",
       "      <td>-100.000000</td>\n",
       "      <td>40</td>\n",
       "      <td>1</td>\n",
       "      <td>1</td>\n",
       "      <td>-44.045175</td>\n",
       "      <td>8.096085e-01</td>\n",
       "      <td>1325</td>\n",
       "    </tr>\n",
       "    <tr>\n",
       "      <th>...</th>\n",
       "      <td>...</td>\n",
       "      <td>...</td>\n",
       "      <td>...</td>\n",
       "      <td>...</td>\n",
       "      <td>...</td>\n",
       "      <td>...</td>\n",
       "      <td>...</td>\n",
       "      <td>...</td>\n",
       "      <td>...</td>\n",
       "    </tr>\n",
       "    <tr>\n",
       "      <th>120</th>\n",
       "      <td>1</td>\n",
       "      <td>1</td>\n",
       "      <td>377.777778</td>\n",
       "      <td>6</td>\n",
       "      <td>1</td>\n",
       "      <td>6</td>\n",
       "      <td>45.799012</td>\n",
       "      <td>4.521102e-04</td>\n",
       "      <td>7720</td>\n",
       "    </tr>\n",
       "    <tr>\n",
       "      <th>174</th>\n",
       "      <td>1</td>\n",
       "      <td>1</td>\n",
       "      <td>500.000000</td>\n",
       "      <td>2</td>\n",
       "      <td>1</td>\n",
       "      <td>2</td>\n",
       "      <td>761.904762</td>\n",
       "      <td>2.875547e-04</td>\n",
       "      <td>3368</td>\n",
       "    </tr>\n",
       "    <tr>\n",
       "      <th>95</th>\n",
       "      <td>1</td>\n",
       "      <td>1</td>\n",
       "      <td>1100.000000</td>\n",
       "      <td>8</td>\n",
       "      <td>1</td>\n",
       "      <td>6</td>\n",
       "      <td>407.142857</td>\n",
       "      <td>1.093395e-07</td>\n",
       "      <td>6282</td>\n",
       "    </tr>\n",
       "    <tr>\n",
       "      <th>69</th>\n",
       "      <td>1</td>\n",
       "      <td>1</td>\n",
       "      <td>2100.000000</td>\n",
       "      <td>14</td>\n",
       "      <td>1</td>\n",
       "      <td>7</td>\n",
       "      <td>1132.500000</td>\n",
       "      <td>2.462395e-12</td>\n",
       "      <td>6439</td>\n",
       "    </tr>\n",
       "    <tr>\n",
       "      <th>18</th>\n",
       "      <td>1</td>\n",
       "      <td>1</td>\n",
       "      <td>14300.000000</td>\n",
       "      <td>1</td>\n",
       "      <td>1</td>\n",
       "      <td>1</td>\n",
       "      <td>2419.277108</td>\n",
       "      <td>5.595228e-80</td>\n",
       "      <td>11995</td>\n",
       "    </tr>\n",
       "  </tbody>\n",
       "</table>\n",
       "<p>129 rows × 9 columns</p>\n",
       "</div>"
      ],
      "text/plain": [
       "     HAS_CREDIT_LIMIT  HAS_PAYMENT  LAST_30_PAYMENT_DELTA   \n",
       "82                  1            1            -100.000000  \\\n",
       "122                 1            1            -100.000000   \n",
       "182                 1            1            -100.000000   \n",
       "208                 1            1            -100.000000   \n",
       "0                   0            1            -100.000000   \n",
       "..                ...          ...                    ...   \n",
       "120                 1            1             377.777778   \n",
       "174                 1            1             500.000000   \n",
       "95                  1            1            1100.000000   \n",
       "69                  1            1            2100.000000   \n",
       "18                  1            1           14300.000000   \n",
       "\n",
       "     DAYS_SINCE_LAST_PAYMENT  HAS_EVENT  DAYS_SINCE_LAST_EVENT   \n",
       "82                        51          1                     51  \\\n",
       "122                       83          1                      9   \n",
       "182                       72          1                      5   \n",
       "208                       54          1                     13   \n",
       "0                         40          1                      1   \n",
       "..                       ...        ...                    ...   \n",
       "120                        6          1                      6   \n",
       "174                        2          1                      2   \n",
       "95                         8          1                      6   \n",
       "69                        14          1                      7   \n",
       "18                         1          1                      1   \n",
       "\n",
       "     LAST_30_EVENT_DELTA  churn_probability  business_id  \n",
       "82           -100.000000       9.892703e-01         7952  \n",
       "122           -81.300813       9.765807e-01         7827  \n",
       "182           -52.360515       9.395529e-01        10121  \n",
       "208           -73.755656       8.834849e-01        12367  \n",
       "0             -44.045175       8.096085e-01         1325  \n",
       "..                   ...                ...          ...  \n",
       "120            45.799012       4.521102e-04         7720  \n",
       "174           761.904762       2.875547e-04         3368  \n",
       "95            407.142857       1.093395e-07         6282  \n",
       "69           1132.500000       2.462395e-12         6439  \n",
       "18           2419.277108       5.595228e-80        11995  \n",
       "\n",
       "[129 rows x 9 columns]"
      ]
     },
     "execution_count": 93,
     "metadata": {},
     "output_type": "execute_result"
    }
   ],
   "source": [
    "# filter for only non-churned merchants\n",
    "\n",
    "non_churned = data.loc[(data.HAS_CHURNED == 0)]\n",
    "bus_ids = non_churned['BUSINESS_ID']\n",
    "non_churned = non_churned[feature_cols]\n",
    "churn_risk_scores = logreg.predict_proba(non_churned)[::,1]\n",
    "\n",
    "non_churned['churn_probability'] = churn_risk_scores\n",
    "non_churned['business_id'] = bus_ids\n",
    "non_churned.sort_values(by=['churn_probability'], ascending=False)"
   ]
  },
  {
   "cell_type": "markdown",
   "id": "b4be579a-a7e4-4181-87a7-c8e4b9e00b34",
   "metadata": {},
   "source": [
    "# Conclusions #\n",
    "\n",
    "The most predictive features, unsurprisingly, relate to the recency of merchant engagement with Settle's products. In particular, payment activity seems to be much more predictive than anything else. Merchants who have made a payment very recently are much less likely to churn than those whom have not. Going in the other direction, merchants who have a credit limit in Settle's app are much **less** likely to churn than those who don't. This makes sense, as I assume merchants had to fill out a credit application to get a credit limit, which would indicate a higher level of engagement compared to those who didn't. Additionally, though I don't have access to this data, I assume many of the merchants with a credit limit actively use said credit, which would indicate an even higher level of engagement, and correspondingly lower likelihood to churn.\n",
    "\n",
    "## Caveats ##\n",
    "\n",
    "This dataset only contains 214 merchants, of which only 85 have churned. In reality, this isn't really enough data to draw strong conclusions from. In particular, it makes the model very vulnerable to over-fitting, with the risk that the model will not generalize well to new data.\n",
    "\n",
    "## Further Investigation ##\n",
    "\n",
    "I avoided performing any event-specific analysis using the data in **fct_segment_events**, instead opting to calculate a couple of aggregate metrics with that data to help train the model. The primary reason for this is that there are many more distinct events in that table than there are merchants to analyze, which would probably require me to arbitrarily decide which events to pay attention to, and which to not. If given access to full merchant data, I would certainly add event-specific features into the model in order to identify any features in particular that strongly predict churn (or lack thereof). Additionally, I used a logistic regression model here, because I am already familiar with that one, but it's possible that other methods such as Random Forests or other non-linear methods might fit the data better."
   ]
  },
  {
   "cell_type": "code",
   "execution_count": null,
   "id": "179fb7b4-dbc0-4b67-9457-95480dbfc26b",
   "metadata": {},
   "outputs": [],
   "source": []
  }
 ],
 "metadata": {
  "kernelspec": {
   "display_name": "Python 3 (ipykernel)",
   "language": "python",
   "name": "python3"
  },
  "language_info": {
   "codemirror_mode": {
    "name": "ipython",
    "version": 3
   },
   "file_extension": ".py",
   "mimetype": "text/x-python",
   "name": "python",
   "nbconvert_exporter": "python",
   "pygments_lexer": "ipython3",
   "version": "3.11.3"
  }
 },
 "nbformat": 4,
 "nbformat_minor": 5
}
